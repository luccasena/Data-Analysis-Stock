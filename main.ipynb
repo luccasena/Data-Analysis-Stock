{
 "cells": [
  {
   "cell_type": "markdown",
   "id": "6f97253c",
   "metadata": {},
   "source": [
    "## Importing Stock Data with Yahoo Finance\n",
    "\n",
    "- In this notebook you will find a Python script that provides a stock dataset that comes from Yahoo Finance. This dataset will be used for analysis with PowerBI."
   ]
  },
  {
   "cell_type": "markdown",
   "id": "55bab2e5",
   "metadata": {},
   "source": [
    "### 1. Importing Librarys"
   ]
  },
  {
   "cell_type": "code",
   "execution_count": null,
   "id": "67bf5dbf",
   "metadata": {},
   "outputs": [],
   "source": [
    "import pandas as pd\n",
    "import yfinance as yf"
   ]
  },
  {
   "cell_type": "markdown",
   "id": "f86f6df4",
   "metadata": {},
   "source": [
    "### 2. Setting some parameters:"
   ]
  },
  {
   "cell_type": "code",
   "execution_count": null,
   "id": "1f804fe0",
   "metadata": {},
   "outputs": [],
   "source": [
    "stocks = ['F', 'AAPL', 'NVDA', 'TSLA', 'AMZN', 'MSFT', 'GOOGL', 'META', 'NFLX', 'AMD']\n",
    "start_date = '2015-05-01'\n",
    "end_date = '2025-05-01'"
   ]
  },
  {
   "cell_type": "markdown",
   "id": "77d507d1",
   "metadata": {},
   "source": [
    "### 3. Making a Stock Dataset:"
   ]
  },
  {
   "cell_type": "code",
   "execution_count": null,
   "id": "e7f67104",
   "metadata": {},
   "outputs": [],
   "source": [
    "for i in range(len(stocks)):\n",
    "    database = yf.download(stocks[i], start=start_date, end=end_date, progress=False)\n",
    "    database = database.reset_index()\n",
    "    database.columns = ['Date', 'Close', 'High', 'Low', 'Open', 'Volume']\n",
    "    database['Symbol Stock'] = stocks[i]\n",
    "\n",
    "    if i == 0:\n",
    "        aux = database.copy()\n",
    "        pass\n",
    "    else:\n",
    "        database = pd.concat([database, aux], axis=0)\n",
    "        aux = database.copy()\n",
    "\n"
   ]
  },
  {
   "cell_type": "code",
   "execution_count": 115,
   "id": "1c81b75e",
   "metadata": {},
   "outputs": [
    {
     "data": {
      "text/plain": [
       "Symbol Stock\n",
       "AAPL     2515\n",
       "AMD      2515\n",
       "AMZN     2515\n",
       "F        2515\n",
       "GOOGL    2515\n",
       "META     2515\n",
       "MSFT     2515\n",
       "NFLX     2515\n",
       "NVDA     2515\n",
       "TSLA     2515\n",
       "dtype: int64"
      ]
     },
     "execution_count": 115,
     "metadata": {},
     "output_type": "execute_result"
    }
   ],
   "source": [
    "database.groupby('Symbol Stock').size()"
   ]
  },
  {
   "cell_type": "markdown",
   "id": "bfcde014",
   "metadata": {},
   "source": [
    "### 4. Importing the Dataset into a \"csv\" file:"
   ]
  },
  {
   "cell_type": "code",
   "execution_count": 116,
   "id": "35cdee7d",
   "metadata": {},
   "outputs": [],
   "source": [
    "database.to_csv('stock-analysis_2015-2025.csv', index=False)"
   ]
  }
 ],
 "metadata": {
  "kernelspec": {
   "display_name": "venv",
   "language": "python",
   "name": "python3"
  },
  "language_info": {
   "codemirror_mode": {
    "name": "ipython",
    "version": 3
   },
   "file_extension": ".py",
   "mimetype": "text/x-python",
   "name": "python",
   "nbconvert_exporter": "python",
   "pygments_lexer": "ipython3",
   "version": "3.12.7"
  }
 },
 "nbformat": 4,
 "nbformat_minor": 5
}
