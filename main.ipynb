{
 "cells": [
  {
   "cell_type": "markdown",
   "id": "6f97253c",
   "metadata": {},
   "source": [
    "## Importing Stock Data with Yahoo Finance\n",
    "\n",
    "- In this notebook you will find a Python script that provides a stock dataset that comes from Yahoo Finance. This dataset will be used for analysis with PowerBI."
   ]
  },
  {
   "cell_type": "markdown",
   "id": "55bab2e5",
   "metadata": {},
   "source": [
    "### 1. Importing Librarys"
   ]
  },
  {
   "cell_type": "code",
   "execution_count": 3,
   "id": "67bf5dbf",
   "metadata": {},
   "outputs": [],
   "source": [
    "import pandas as pd\n",
    "import yfinance as yf\n",
    "import psycopg2"
   ]
  },
  {
   "cell_type": "code",
   "execution_count": null,
   "id": "ec7eb8f0",
   "metadata": {},
   "outputs": [],
   "source": [
    "connection = psycopg2.connect(\n",
    "    host=\"\",\n",
    "    database=\"\",\n",
    "    user=\"\",\n",
    "    port=\"\",\n",
    "    password=\"\")\n"
   ]
  },
  {
   "cell_type": "code",
   "execution_count": 26,
   "id": "c36479f5",
   "metadata": {},
   "outputs": [],
   "source": [
    "cursor = connection.cursor()"
   ]
  },
  {
   "cell_type": "markdown",
   "id": "f86f6df4",
   "metadata": {},
   "source": [
    "### 2. Setting some parameters:"
   ]
  },
  {
   "cell_type": "code",
   "execution_count": 11,
   "id": "1f804fe0",
   "metadata": {},
   "outputs": [],
   "source": [
    "stocks = ['F', 'AAPL', 'NVDA', 'TSLA', 'AMZN', 'MSFT', 'GOOGL', 'META', 'NFLX', 'AMD']\n",
    "start_date = '2015-07-11'\n",
    "end_date = '2025-07-11'"
   ]
  },
  {
   "cell_type": "markdown",
   "id": "77d507d1",
   "metadata": {},
   "source": [
    "### 3. Making a Stock Dataset:"
   ]
  },
  {
   "cell_type": "code",
   "execution_count": 12,
   "id": "08a78ae8",
   "metadata": {},
   "outputs": [],
   "source": [
    "historical_data = []\n",
    "fundamental_data = []\n",
    "    \n",
    "for symbol in stocks:\n",
    "\n",
    "    #symbol = symbol + \".SA\"\n",
    "    ticker = yf.Ticker(symbol)\n",
    "\n",
    "    # 🔹 Dados históricos\n",
    "    hist = ticker.history(start=start_date, end=end_date)\n",
    "    hist = hist.reset_index()\n",
    "    hist['Symbol'] = symbol\n",
    "    historical_data.append(hist)\n",
    "\n",
    "    # 🔹 Dados fundamentalistas (P/L, P/VP, ROE etc.)\n",
    "    info = ticker.info\n",
    "    fundamentals = {\n",
    "        'Symbol': symbol,\n",
    "        'P/L (TTM)': info.get('trailingPE'),  \n",
    "        'P/VP': info.get('priceToBook'),\n",
    "        'ROE': info.get('returnOnEquity'),\n",
    "        'Dividend Yield': info.get('dividendYield'),\n",
    "    }\n",
    "    fundamental_data.append(fundamentals)\n",
    "\n"
   ]
  },
  {
   "cell_type": "markdown",
   "id": "bfcde014",
   "metadata": {},
   "source": [
    "### 4. Importing the Dataset into a \"csv\" file:"
   ]
  },
  {
   "cell_type": "code",
   "execution_count": null,
   "id": "35cdee7d",
   "metadata": {},
   "outputs": [],
   "source": [
    "# Exportar CSVs\n",
    "df_prices = pd.concat(historical_data)\n",
    "#df_prices.to_csv('dataset/stock-analysis.csv', index=False)\n",
    "dataset_fundamentals = pd.DataFrame(fundamental_data)\n",
    "#dataset_fundamentals.to_csv('dataset/stock-analysis-fundamentals.csv', index=False)\n",
    "dataset_img = pd.read_csv('dataset/images.csv')"
   ]
  },
  {
   "cell_type": "markdown",
   "id": "b251b1fb",
   "metadata": {},
   "source": [
    "### 5. Inserting of the Dataset into PostgresSQL:"
   ]
  },
  {
   "cell_type": "code",
   "execution_count": null,
   "id": "4a24fdda",
   "metadata": {},
   "outputs": [],
   "source": [
    "for _, row in df_prices.iterrows():\n",
    "    try:\n",
    "        cursor.execute(\n",
    "            \"\"\"\n",
    "            INSERT INTO StockData \n",
    "            (DateStock, SymbolStock, ClosePrice, HighPrice, OpenPrice, LowPrice, Volume) \n",
    "            VALUES (%s, %s, %s, %s, %s, %s, %s)\n",
    "            \"\"\",\n",
    "            (\n",
    "                row['Date'].date() if hasattr(row['Date'], 'date') else row['Date'],  # Garante que será um DATE\n",
    "                row['Symbol'],           \n",
    "                round(row['Close'], 2),\n",
    "                round(row['High'], 2),\n",
    "                round(row['Open'], 2),\n",
    "                round(row['Low'], 2),\n",
    "                int(row['Volume'])       \n",
    "            )\n",
    "        )\n",
    "        connection.commit()\n",
    "    except Exception as e:\n",
    "        print(f\"Erro ao inserir o registro da data {row['Date']}: {e}\")\n",
    "        connection.rollback()\n"
   ]
  },
  {
   "cell_type": "code",
   "execution_count": 18,
   "id": "28feb005",
   "metadata": {},
   "outputs": [],
   "source": [
    "for _, row in dataset_fundamentals.iterrows():\n",
    "    try:\n",
    "        cursor.execute(\n",
    "            \"\"\"\n",
    "            INSERT INTO FundamentalsStockData \n",
    "            (SymbolStock, DividendYield, PL, PVP, ROE) \n",
    "            VALUES (%s, %s, %s, %s, %s)\n",
    "            \"\"\",\n",
    "            (\n",
    "                row['Symbol'], \n",
    "                round(row['Dividend Yield'], 2),\n",
    "                round(row['P/L (TTM)'], 2),\n",
    "                round(row['P/VP'], 2),\n",
    "                round(row['ROE'], 2)\n",
    "            )\n",
    "        )\n",
    "        connection.commit()\n",
    "    except Exception as e:\n",
    "        print(f\"Erro ao inserir o registro do Ativo {row['SymbolStock']}: {e}\")\n",
    "        connection.rollback()\n"
   ]
  },
  {
   "cell_type": "code",
   "execution_count": 27,
   "id": "36d033aa",
   "metadata": {},
   "outputs": [],
   "source": [
    "for _, row in dataset_img.iterrows():\n",
    "    try:\n",
    "        cursor.execute(\n",
    "            \"\"\"\n",
    "            INSERT INTO stockimages \n",
    "            (SymbolStock, linkimage) \n",
    "            VALUES (%s, %s)\n",
    "            \"\"\",\n",
    "            (\n",
    "                row['Symbol'], \n",
    "                row['Logo']\n",
    "            )\n",
    "        )\n",
    "        connection.commit()\n",
    "    except Exception as e:\n",
    "        print(f\"Erro ao inserir o registro da Imagem do Ativo {row['Symbol']}: {e}\")\n",
    "        connection.rollback()"
   ]
  }
 ],
 "metadata": {
  "kernelspec": {
   "display_name": "venv",
   "language": "python",
   "name": "python3"
  },
  "language_info": {
   "codemirror_mode": {
    "name": "ipython",
    "version": 3
   },
   "file_extension": ".py",
   "mimetype": "text/x-python",
   "name": "python",
   "nbconvert_exporter": "python",
   "pygments_lexer": "ipython3",
   "version": "3.12.7"
  }
 },
 "nbformat": 4,
 "nbformat_minor": 5
}
